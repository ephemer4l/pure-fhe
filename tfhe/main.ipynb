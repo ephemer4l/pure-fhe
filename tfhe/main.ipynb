{
 "cells": [
  {
   "attachments": {},
   "cell_type": "markdown",
   "metadata": {},
   "source": [
    "# TFHE-py\n",
    "\n",
    "Python implementation of the [Fully Homomorphic Encryption (FHE)](https://en.wikipedia.org/wiki/Homomorphic_encryption#Fully_homomorphic_encryption) scheme [TFHE: Fast Fully Homomorphic Encryption over the Torus](https://eprint.iacr.org/2018/421.pdf)."
   ]
  },
  {
   "attachments": {},
   "cell_type": "markdown",
   "metadata": {},
   "source": [
    "## NAND\n",
    "\n",
    "The following demo shows an evaluation of a [NAND gate](https://en.wikipedia.org/wiki/NAND_gate) using two encrypted bit arrays as input."
   ]
  },
  {
   "cell_type": "code",
   "execution_count": 1,
   "metadata": {},
   "outputs": [],
   "source": [
    "import random\n",
    "import warnings\n",
    "\n",
    "import numpy\n",
    "\n",
    "from tfhe.boot_gates import NAND\n",
    "from tfhe.keys import tfhe_key_pair, tfhe_parameters, tfhe_encrypt, tfhe_decrypt, empty_ciphertext"
   ]
  },
  {
   "cell_type": "code",
   "execution_count": 2,
   "metadata": {},
   "outputs": [],
   "source": [
    "# Ignores overflow detected by Numpy in `lwe_key_switch_translate_from_array` method.\n",
    "warnings.filterwarnings(\"ignore\", \"overflow encountered in scalar subtract\")"
   ]
  },
  {
   "cell_type": "code",
   "execution_count": 3,
   "metadata": {},
   "outputs": [],
   "source": [
    "# Seed the random number generator.\n",
    "rng = numpy.random.RandomState(123)"
   ]
  },
  {
   "cell_type": "code",
   "execution_count": 4,
   "metadata": {},
   "outputs": [
    {
     "name": "stdout",
     "output_type": "stream",
     "text": [
      "Expected Bits: [False False False  True False  True  True  True]\n"
     ]
    }
   ],
   "source": [
    "size = 8\n",
    "\n",
    "bits1 = numpy.array([random.choice([False, True]) for _ in range(size)])\n",
    "bits2 = numpy.array([random.choice([False, True]) for _ in range(size)])\n",
    "expected_bits = numpy.array([not (b1 and b2) for b1, b2 in zip(bits1, bits2)])\n",
    "\n",
    "print(f\"Expected Bits: {expected_bits}\")"
   ]
  },
  {
   "cell_type": "code",
   "execution_count": 5,
   "metadata": {},
   "outputs": [
    {
     "name": "stdout",
     "output_type": "stream",
     "text": [
      "Secret Key: [0 1 0 0 0 0 0 1 1 0 1 1 0 1 0 1 0 1 1 0 0 0 1 1 1 0 1 0 0 0 0 1 1 1 0 0 1\n",
      " 0 0 1 0 1 0 1 1 1 0 0 0 0 1 1 0 0 1 0 1 0 0 1 0 1 0 1 0 0 0 0 1 0 0 1 1 1\n",
      " 1 0 0 0 0 1 1 0 0 0 0 1 0 1 1 0 1 1 1 0 1 1 1 0 0 0 1 0 0 1 1 1 0 1 1 0 0\n",
      " 1 1 0 1 1 1 1 1 1 1 0 1 1 1 1 0 0 0 1 1 0 0 1 1 0 0 0 1 0 1 1 0 0 1 0 1 1\n",
      " 1 1 0 1 0 1 0 0 1 1 0 1 1 1 0 1 1 1 1 0 0 1 1 0 0 1 0 0 0 1 0 1 1 0 0 0 1\n",
      " 0 0 1 0 0 1 0 0 1 0 0 0 0 1 0 1 1 0 0 0 1 0 0 0 1 0 0 0 1 0 1 1 1 1 0 1 1\n",
      " 1 1 0 0 1 1 1 1 1 0 0 1 1 1 0 1 0 0 0 1 1 1 0 1 0 0 1 1 1 0 1 1 0 0 0 1 0\n",
      " 1 1 0 0 1 1 1 1 1 0 1 1 1 0 1 1 0 0 0 1 1 0 0 1 0 0 0 1 0 1 1 1 0 1 1 1 0\n",
      " 0 0 0 1 0 1 1 1 1 0 1 1 1 1 1 1 0 0 1 0 0 1 0 1 1 1 1 1 1 0 1 1 1 0 0 0 1\n",
      " 1 0 1 0 0 1 0 1 1 0 0 0 0 1 1 1 1 1 0 1 0 1 1 1 0 0 1 0 0 1 0 0 0 0 0 1 1\n",
      " 0 1 0 0 0 1 1 0 1 0 1 0 1 1 0 0 0 1 0 1 1 0 0 1 0 0 1 1 0 0 1 1 0 1 0 1 1\n",
      " 1 0 1 1 1 1 1 0 0 1 1 1 1 1 1 1 1 1 1 1 1 1 0 0 1 1 1 0 0 1 0 0 0 0 1 0 0\n",
      " 0 0 1 0 1 0 1 0 0 0 0 1 1 0 1 0 1 0 1 1 1 0 1 0 0 0 0 1 1 1 0 0 0 1 1 1 0\n",
      " 0 0 0 1 0 1 1 0 1 0 0 1 0 0 0 1 0 0 0]\n"
     ]
    }
   ],
   "source": [
    "secret_key, cloud_key = tfhe_key_pair(rng)\n",
    "\n",
    "print(f\"Secret Key: {secret_key.lwe_key.key}\")"
   ]
  },
  {
   "cell_type": "code",
   "execution_count": 6,
   "metadata": {},
   "outputs": [
    {
     "name": "stdout",
     "output_type": "stream",
     "text": [
      "Ciphertext #1 - A:\n",
      "[[ -840855051 -1136742550  -809565389 ...  -534280838   943465747\n",
      "   -140371691]\n",
      " [ -721127977  1889330684  1500427088 ... -1580204609  1445239680\n",
      "  -1596179244]\n",
      " [  653050139   283965477  2093932157 ...   106297957  -761437438\n",
      "    666920104]\n",
      " ...\n",
      " [ 1953068548 -2114867344  -125975373 ...    92647407  2062394814\n",
      "   -456800007]\n",
      " [ 1168962072   270010001 -1479199671 ... -1809719243  1566491449\n",
      "     63757602]\n",
      " [ -494803323   -49907707 -1700657286 ...  -354153220  1082467922\n",
      "  -1106648905]]\n",
      "\n",
      "Ciphertext #1 - B:\n",
      "[ -804448352  1601156578 -1166297905  1190138558 -1794158149   510443285\n",
      " -1276372954  2069967464]\n"
     ]
    }
   ],
   "source": [
    "ciphertext1 = tfhe_encrypt(rng, secret_key, bits1)\n",
    "ciphertext2 = tfhe_encrypt(rng, secret_key, bits2)\n",
    "\n",
    "print(\"Ciphertext #1 - A:\")\n",
    "print(ciphertext1.a)\n",
    "print()\n",
    "print(\"Ciphertext #1 - B:\")\n",
    "print(ciphertext1.b)"
   ]
  },
  {
   "cell_type": "code",
   "execution_count": 7,
   "metadata": {},
   "outputs": [
    {
     "name": "stdout",
     "output_type": "stream",
     "text": [
      "Result - A:\n",
      "[[          0           0   211156755 ... -1558901600    20326465\n",
      "   -500811347]\n",
      " [ -249946643  1922639180   514040244 ...           0   402703712\n",
      "            1]\n",
      " [       1130           0           0 ...          19        1161\n",
      "            1]\n",
      " ...\n",
      " [  402709720           1          24 ...           1    80232992\n",
      "            1]\n",
      " [  223328944           1    72253104 ...           7           0\n",
      "            5]\n",
      " [        166           0           0 ...           1   122540848\n",
      "            1]]\n",
      "\n",
      "Result - B:\n",
      "[ 536870912  536870912  536870912 -536870912  536870912 -536870912\n",
      " -536870912 -536870912]\n"
     ]
    }
   ],
   "source": [
    "params = tfhe_parameters(cloud_key)\n",
    "\n",
    "result = empty_ciphertext(params, ciphertext1.shape)\n",
    "\n",
    "print(\"Result - A:\")\n",
    "print(result.a)\n",
    "print()\n",
    "print(\"Result - B:\")\n",
    "print(result.b)"
   ]
  },
  {
   "cell_type": "code",
   "execution_count": 8,
   "metadata": {},
   "outputs": [
    {
     "name": "stdout",
     "output_type": "stream",
     "text": [
      "Answer Bits: [False False False  True False  True  True  True]\n"
     ]
    }
   ],
   "source": [
    "NAND(cloud_key, result, ciphertext1, ciphertext2)\n",
    "\n",
    "answer_bits = tfhe_decrypt(secret_key, result)\n",
    "\n",
    "print(f\"Answer Bits: {answer_bits}\")"
   ]
  },
  {
   "cell_type": "code",
   "execution_count": 9,
   "metadata": {},
   "outputs": [],
   "source": [
    "assert (answer_bits == expected_bits).all()"
   ]
  },
  {
   "attachments": {},
   "cell_type": "markdown",
   "metadata": {},
   "source": [
    "Check out the project's [README.md](./README.md) file for more information."
   ]
  }
 ],
 "metadata": {
  "kernelspec": {
   "display_name": ".venv",
   "language": "python",
   "name": "python3"
  },
  "language_info": {
   "codemirror_mode": {
    "name": "ipython",
    "version": 3
   },
   "file_extension": ".py",
   "mimetype": "text/x-python",
   "name": "python",
   "nbconvert_exporter": "python",
   "pygments_lexer": "ipython3",
   "version": "3.11.3"
  },
  "orig_nbformat": 4
 },
 "nbformat": 4,
 "nbformat_minor": 2
}
